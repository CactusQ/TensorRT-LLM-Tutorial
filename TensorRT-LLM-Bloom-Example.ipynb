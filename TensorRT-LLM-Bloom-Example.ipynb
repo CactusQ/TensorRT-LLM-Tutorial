{
 "cells": [
  {
   "cell_type": "markdown",
   "id": "ac316c9b-6bd4-44bc-92ca-8455107156f2",
   "metadata": {},
   "source": [
    "# Getting started with TensorRT-LLM\n",
    "\n",
    "In this notebook we are optimizing Bloom 560M for inference using TensorRT-LLM. <br>\n",
    "We compare inference speed results from the **baseline** model (Huggingface), the **optimized** model, <br>\n",
    "and the optimized model after **INT8-quantization**.\n",
    "\n",
    "***Source:***\n",
    "https://github.com/NVIDIA/TensorRT-LLM/tree/main/examples/bloom"
   ]
  },
  {
   "cell_type": "markdown",
   "id": "45885a26-ad28-473d-83d8-5c45bfc176d2",
   "metadata": {},
   "source": [
    "### Installing the NVIDIA Container Toolkit"
   ]
  },
  {
   "cell_type": "code",
   "execution_count": null,
   "id": "3c01a848-2619-4d7e-ad0a-d48529837c1d",
   "metadata": {},
   "outputs": [],
   "source": [
    "!curl -fsSL https://nvidia.github.io/libnvidia-container/gpgkey | sudo gpg --dearmor -o /usr/share/keyrings/nvidia-container-toolkit-keyring.gpg \\\n",
    "  && curl -s -L https://nvidia.github.io/libnvidia-container/stable/deb/nvidia-container-toolkit.list | \\\n",
    "    sed 's#deb https://#deb [signed-by=/usr/share/keyrings/nvidia-container-toolkit-keyring.gpg] https://#g' | \\\n",
    "    sudo tee /etc/apt/sources.list.d/nvidia-container-toolkit.list\n",
    "\n",
    "!apt-get update"
   ]
  },
  {
   "cell_type": "markdown",
   "id": "9d9e37e9-ef50-4e81-bab2-9c3ad4a94586",
   "metadata": {},
   "source": [
    "### Installing TensorRT-LLM"
   ]
  },
  {
   "cell_type": "code",
   "execution_count": null,
   "id": "1b6333ce-4c4f-4fe9-b08f-c6db2242e00f",
   "metadata": {},
   "outputs": [],
   "source": [
    "!git clone https://github.com/NVIDIA/TensorRT-LLM/"
   ]
  },
  {
   "cell_type": "code",
   "execution_count": null,
   "id": "7f3f644f-c715-4262-8adc-4f67b9695566",
   "metadata": {},
   "outputs": [],
   "source": [
    "!apt-get update && apt-get -y install python3.10 python3-pip openmpi-bin libopenmpi-dev\n",
    "!pip3 install tensorrt_llm -U --pre --extra-index-url https://pypi.nvidia.com"
   ]
  },
  {
   "cell_type": "markdown",
   "id": "d029d061-72a2-4a9d-979e-0036324b4220",
   "metadata": {},
   "source": [
    "### Downloading BLOOM"
   ]
  },
  {
   "cell_type": "markdown",
   "id": "846f303e-ef4d-42d0-8cd6-a7ec1e7ff677",
   "metadata": {},
   "source": [
    "BLOOM is an autoregressive Large Language Model (LLM), trained to continue text from a prompt on vast amounts of text data using industrial-scale computational resources. As such, it is able to output coherent text in 46 languages and 13 programming languages that is hardly distinguishable from text written by humans. BLOOM can also be instructed to perform text tasks it hasn't been explicitly trained for, by casting them as text generation tasks."
   ]
  },
  {
   "cell_type": "code",
   "execution_count": null,
   "id": "34dbc0ca-1cdb-46dc-82b2-c3e23ba9b18e",
   "metadata": {},
   "outputs": [],
   "source": [
    "!pip install -r TensorRT-LLM/examples/bloom/requirements.txt"
   ]
  },
  {
   "cell_type": "code",
   "execution_count": null,
   "id": "25f9c485-9bbc-4dea-9d2d-240ac8f5ced2",
   "metadata": {},
   "outputs": [],
   "source": [
    "BLOOM_PATH=\"TensorRT-LLM/examples/bloom\"\n",
    "\n",
    "!rm -rf $BLOOM_PATH/560M\n",
    "!mkdir -p $BLOOM_PATH/560M && git clone https://huggingface.co/bigscience/bloom-560m $BLOOM_PATH/560M"
   ]
  },
  {
   "cell_type": "markdown",
   "id": "e0ab5234-a53e-4bdf-beb6-807dff0df9db",
   "metadata": {},
   "source": [
    "### Converting and Building"
   ]
  },
  {
   "cell_type": "code",
   "execution_count": 135,
   "id": "c25e4c3a-94a4-40d7-8046-80b6cdfd8cba",
   "metadata": {},
   "outputs": [
    {
     "name": "stdout",
     "output_type": "stream",
     "text": [
      "[TensorRT-LLM] TensorRT-LLM version: 0.9.0.dev2024030500\n",
      "0.9.0.dev2024030500\n",
      "[03/06/2024-20:31:52] [TRT-LLM] [I] Convert by using checkpoint\n",
      "[03/06/2024-20:31:52] [TRT-LLM] [I] Loading weights from HF BLOOM...\n",
      "Rank [0] Loading weights: 100%|███████████████████| 1/1 [00:05<00:00,  5.40s/it]\n",
      "[03/06/2024-20:31:58] [TRT-LLM] [I] Weights loaded. Total time: 00:00:05\n",
      "Total time of converting checkpoints: 00:00:26\n"
     ]
    }
   ],
   "source": [
    "# Convert checkpoint from HF to TRT-LLM format\n",
    "!python3 $BLOOM_PATH/convert_checkpoint.py --model_dir $BLOOM_PATH/560M/ \\\n",
    "                --dtype float16 \\\n",
    "                --output_dir $BLOOM_PATH/560M/trt_ckpt/fp16/1-gpu/"
   ]
  },
  {
   "cell_type": "code",
   "execution_count": null,
   "id": "653d0c5c-63ab-43ae-9378-5247b08dc4dd",
   "metadata": {},
   "outputs": [],
   "source": [
    "# Build TensorRT-LLM model from checkpoint\n",
    "!trtllm-build --checkpoint_dir $BLOOM_PATH/560M/trt_ckpt/fp16/1-gpu/ \\\n",
    "                --gemm_plugin float16 \\\n",
    "                --output_dir $BLOOM_PATH/560M/trt_engines/fp16/1-gpu/"
   ]
  },
  {
   "cell_type": "code",
   "execution_count": null,
   "id": "beacb68b-10e3-4a60-b190-f9e0dd423dc1",
   "metadata": {},
   "outputs": [],
   "source": [
    "# Build the BLOOM 560M using a single GPU and apply INT8 weight-only quantization.\n",
    "!python3 $BLOOM_PATH/convert_checkpoint.py --model_dir $BLOOM_PATH/560M \\\n",
    "                --dtype float16 \\\n",
    "                --use_weight_only \\\n",
    "                --output_dir $BLOOM_PATH/560M/trt_ckpt/int8_weight_only/1-gpu/\n",
    "\n",
    "!trtllm-build --checkpoint_dir $BLOOM_PATH/560M/trt_ckpt/int8_weight_only/1-gpu/ \\\n",
    "                --gemm_plugin float16 \\\n",
    "                --output_dir $BLOOM_PATH/560M/trt_engines/int8_weight_only/1-gpu/"
   ]
  },
  {
   "cell_type": "markdown",
   "id": "96d19e11-3181-43af-ac1e-1d9a3ce99aab",
   "metadata": {},
   "source": [
    "# Benchmarking"
   ]
  },
  {
   "cell_type": "markdown",
   "id": "6b1bb3e0-67f1-4e61-b60b-bf329b273f9e",
   "metadata": {},
   "source": [
    "Comparing execution time and **ROUGE** metrics on a **Summarization Task**.\n",
    "\n",
    "**ROUGE** stands for **Recall-Oriented Understudy for Gisting Evaluation**.<br />\n",
    "It is a set of metrics used to evaluate the quality of summaries by comparing them to one or more reference summaries.<br />\n",
    "\n",
    "Since we are using NVIDIA's Python scripts for benchmarking, we need to capture **STDOUT** and parse the results from there."
   ]
  },
  {
   "cell_type": "code",
   "execution_count": 138,
   "id": "0b28c0ad-eaa6-42cc-a9d1-785e60936d43",
   "metadata": {},
   "outputs": [],
   "source": [
    "%%capture bloom_hf_results\n",
    "# Huggingface\n",
    "!time python3 $BLOOM_PATH/../summarize.py --test_hf \\\n",
    "                       --hf_model_dir $BLOOM_PATH/560M/ \\\n",
    "                       --data_type fp16 \\\n",
    "                       --engine_dir $BLOOM_PATH/560M/trt_engines/fp16/1-gpu/"
   ]
  },
  {
   "cell_type": "code",
   "execution_count": 139,
   "id": "85de27d0-0d75-4ef1-a0da-5e17608e99fe",
   "metadata": {},
   "outputs": [],
   "source": [
    "%%capture bloom_trt_results\n",
    "# TensorRT-LLM\n",
    "!time python3 $BLOOM_PATH/../summarize.py --test_trt_llm \\\n",
    "                       --hf_model_dir $BLOOM_PATH/560M/ \\\n",
    "                       --data_type fp16 \\\n",
    "                       --engine_dir $BLOOM_PATH/560M/trt_engines/fp16/1-gpu/"
   ]
  },
  {
   "cell_type": "code",
   "execution_count": 140,
   "id": "14d8d640-cd32-48f1-8d46-612871d53ca4",
   "metadata": {},
   "outputs": [],
   "source": [
    "%%capture bloom_int8_results\n",
    "# TensorRT-LLM (INT8)\n",
    "!time python3 $BLOOM_PATH/../summarize.py --test_trt_llm \\\n",
    "                       --hf_model_dir $BLOOM_PATH/560M/ \\\n",
    "                       --data_type fp16 \\\n",
    "                       --engine_dir $BLOOM_PATH/560M/trt_engines/int8_weight_only/1-gpu/"
   ]
  },
  {
   "cell_type": "code",
   "execution_count": null,
   "id": "f37fa8c1-83b4-49cf-861e-20a382625faa",
   "metadata": {},
   "outputs": [],
   "source": [
    "# Example output captured\n",
    "print(bloom_int8_results())"
   ]
  },
  {
   "cell_type": "markdown",
   "id": "54300987-e179-4b03-bb3c-39e9c2a80299",
   "metadata": {},
   "source": [
    "# Visualizing the results"
   ]
  },
  {
   "cell_type": "markdown",
   "id": "56649eab-8b19-410a-8a73-573b13d553bf",
   "metadata": {},
   "source": [
    "#### Parse results from STDOUT"
   ]
  },
  {
   "cell_type": "code",
   "execution_count": 142,
   "id": "31223187-e3e7-4d1c-a867-d7ca4ebaa500",
   "metadata": {},
   "outputs": [],
   "source": [
    "import re\n",
    "\n",
    "def parse_output(output):\n",
    "    # Extracting execution time\n",
    "    time_match = re.search(r'real\\s+(\\d+)m([\\d.]+)s', output.stdout)\n",
    "    if time_match:\n",
    "        minutes = int(time_match.group(1))\n",
    "        seconds = float(time_match.group(2))\n",
    "        exec_time = minutes * 60 + seconds\n",
    "    else:\n",
    "        exec_time = None\n",
    "    \n",
    "    rouge_scores = re.findall(r'rouge[12Lsum]+ : ([\\d.]+)', output.stdout)\n",
    "    rouge_scores = [float(score) for score in rouge_scores] if rouge_scores else []\n",
    "    \n",
    "    latency_match = re.search(r'total latency: ([\\d.]+) sec', output.stdout)\n",
    "    latency = float(latency_match.group(1)) if latency_match else None\n",
    "    \n",
    "    tokens_match = re.search(r'total output tokens: (\\d+)', output.stdout)\n",
    "    total_tokens = int(tokens_match.group(1)) if tokens_match else None\n",
    "    \n",
    "    tokens_per_sec_match = re.search(r'tokens per second: ([\\d.]+)', output.stdout)\n",
    "    tokens_per_sec = float(tokens_per_sec_match.group(1)) if tokens_per_sec_match else None\n",
    "    \n",
    "    return exec_time, rouge_scores, latency, total_tokens, tokens_per_sec"
   ]
  },
  {
   "cell_type": "code",
   "execution_count": 143,
   "id": "0d11d69a-36cf-4568-bcee-cd703823d2ae",
   "metadata": {},
   "outputs": [],
   "source": [
    "# For bloom_hf_results\n",
    "bloom_hf_exec_time, bloom_hf_rouge, _, _, _ = parse_output(bloom_hf_results)\n",
    "\n",
    "# Only TensorRT-LLM optimized models have Tokens/s, latency, and total tokens\n",
    "bloom_trt_exec_time, bloom_trt_rouge, bloom_trt_latency, bloom_trt_tokens, bloom_trt_tokens_per_sec = parse_output(bloom_trt_results)\n",
    "bloom_int8_exec_time, bloom_int8_rouge, bloom_int8_latency, bloom_int8_tokens, bloom_int8_tokens_per_sec = parse_output(bloom_int8_results)"
   ]
  },
  {
   "cell_type": "code",
   "execution_count": 144,
   "id": "a7429695-0d60-4dbd-bb54-21f3b88ae27f",
   "metadata": {},
   "outputs": [
    {
     "data": {
      "text/plain": [
       "Text(0.5, 0, 'Model')"
      ]
     },
     "execution_count": 144,
     "metadata": {},
     "output_type": "execute_result"
    },
    {
     "data": {
      "image/png": "[encoded data removed]",
      "text/plain": [
       "<Figure size 1080x360 with 3 Axes>"
      ]
     },
     "metadata": {
      "needs_background": "light"
     },
     "output_type": "display_data"
    }
   ],
   "source": [
    "%matplotlib inline\n",
    "import matplotlib.pyplot as plt\n",
    "\n",
    "# Execution times and Rouge Scores\n",
    "exec_times = [bloom_hf_exec_time, bloom_trt_exec_time, bloom_int8_exec_time]\n",
    "models = ['HF', 'TRT', 'INT8']\n",
    "\n",
    "plt.figure(figsize=(15, 5))\n",
    "\n",
    "# Plotting execution times\n",
    "plt.subplot(1, 3, 1)\n",
    "plt.bar(models, exec_times, color=['blue', 'green', 'red'])\n",
    "plt.title('Time Comparison (lower is better)')\n",
    "plt.ylabel('Execution Time (seconds)')\n",
    "plt.xlabel('Model')\n",
    "\n",
    "# Plotting ROUGE-1 scores\n",
    "rouge1_scores = [bloom_hf_rouge[0], bloom_trt_rouge[0], bloom_int8_rouge[0]]\n",
    "plt.subplot(1, 3, 2)\n",
    "plt.bar(models, rouge1_scores, color=['blue', 'green', 'red'])\n",
    "plt.title('ROUGE-1 (higher is better)')\n",
    "plt.ylabel('ROUGE-1 Score')\n",
    "plt.xlabel('Model')\n",
    "\n",
    "# Plotting ROUGE-Lsum scores\n",
    "rouge_lsum_scores = [bloom_hf_rouge[3], bloom_trt_rouge[3], bloom_int8_rouge[3]]\n",
    "plt.subplot(1, 3, 3)\n",
    "plt.bar(models, rouge_lsum_scores, color=['blue', 'green', 'red'])\n",
    "plt.title('ROUGE-Lsum (higher is better)')\n",
    "plt.ylabel('ROUGE-Lsum Score')\n",
    "plt.xlabel('Model')"
   ]
  },
  {
   "cell_type": "code",
   "execution_count": 145,
   "id": "ecafe57c-3351-4e87-b0d2-6f78851e4900",
   "metadata": {},
   "outputs": [
    {
     "data": {
      "text/plain": [
       "Text(0.5, 0, 'Model')"
      ]
     },
     "execution_count": 145,
     "metadata": {},
     "output_type": "execute_result"
    },
    {
     "data": {
      "image/png": "[encoded data removed]",
      "text/plain": [
       "<Figure size 720x360 with 2 Axes>"
      ]
     },
     "metadata": {
      "needs_background": "light"
     },
     "output_type": "display_data"
    }
   ],
   "source": [
    "# Latency and Tokens per Sec\n",
    "latencies = [bloom_trt_latency, bloom_int8_latency]\n",
    "tps = [bloom_trt_tokens_per_sec, bloom_int8_tokens_per_sec]\n",
    "models = ['TRT', 'INT8']\n",
    "\n",
    "plt.figure(figsize=(10, 5))\n",
    "\n",
    "# Plotting latency times\n",
    "plt.subplot(1, 2, 1)\n",
    "plt.bar(models, latencies, color=['green', 'red'])\n",
    "plt.title('Latency (lower is better)')\n",
    "plt.ylabel('Time (seconds)')\n",
    "plt.xlabel('Model')\n",
    "\n",
    "# Plotting tokens per seconds\n",
    "rouge1_scores = tps\n",
    "plt.subplot(1, 2, 2)\n",
    "plt.bar(models, rouge1_scores, color=['green', 'red'])\n",
    "plt.title('Tokens per second (higher is better)')\n",
    "plt.ylabel('Tokens/sec')\n",
    "plt.xlabel('Model')"
   ]
  }
 ],
 "metadata": {
  "kernelspec": {
   "display_name": "Python 3 (ipykernel)",
   "language": "python",
   "name": "python3"
  },
  "language_info": {
   "codemirror_mode": {
    "name": "ipython",
    "version": 3
   },
   "file_extension": ".py",
   "mimetype": "text/x-python",
   "name": "python",
   "nbconvert_exporter": "python",
   "pygments_lexer": "ipython3",
   "version": "3.10.12"
  }
 },
 "nbformat": 4,
 "nbformat_minor": 5
}
